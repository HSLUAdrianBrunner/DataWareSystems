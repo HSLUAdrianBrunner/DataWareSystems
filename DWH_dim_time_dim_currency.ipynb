{
 "cells": [
  {
   "cell_type": "markdown",
   "id": "920ec42c",
   "metadata": {},
   "source": [
    "# DWH static tables"
   ]
  },
  {
   "cell_type": "markdown",
   "id": "0e1c22f9",
   "metadata": {},
   "source": [
    "## dim_currency"
   ]
  },
  {
   "cell_type": "code",
   "execution_count": null,
   "id": "745bff8c",
   "metadata": {},
   "outputs": [],
   "source": [
    "CREATE TABLE IF NOT EXISTS dim_currency (\n",
    "    currency_id SERIAL PRIMARY KEY,\n",
    "    currency_code VARCHAR(3) NOT NULL\n",
    ");\n",
    "\n",
    "INSERT INTO dim_currency (currency_id, currency_code) VALUES\n",
    "(1, 'CHF'),\n",
    "(2, 'EUR');"
   ]
  },
  {
   "cell_type": "markdown",
   "id": "5b2545e1",
   "metadata": {},
   "source": [
    "## dim_time"
   ]
  },
  {
   "cell_type": "code",
   "execution_count": null,
   "id": "8b99a536",
   "metadata": {},
   "outputs": [],
   "source": [
    "CREATE TABLE IF NOT EXISTS dim_time (\n",
    "    time_id SERIAL PRIMARY KEY,\n",
    "    timestamp_utc TIMESTAMP WITHOUT TIME ZONE NOT NULL,\n",
    "    date DATE NOT NULL,\n",
    "    hour INTEGER CHECK (hour >= 0 AND hour <= 23),\n",
    "    day_of_week VARCHAR(3) CHECK (day_of_week IN (\n",
    "        'Mon', 'Tue', 'Wed', 'Thu', 'Fri', 'Sat', 'Sun'\n",
    "    )),\n",
    "    month VARCHAR(3) CHECK (month IN (\n",
    "        'Jan', 'Feb', 'Mar', 'Apr', 'May', 'Jun',\n",
    "        'Jul', 'Aug', 'Sep', 'Oct', 'Nov', 'Dec'\n",
    "    )),\n",
    "    year INTEGER CHECK (year >= 1900)\n",
    ");\n",
    "\n",
    "WITH RECURSIVE time_gen AS (\n",
    "    SELECT \n",
    "        TIMESTAMP '2024-01-01 00:00:00' AS ts\n",
    "    UNION ALL\n",
    "    SELECT \n",
    "        ts + INTERVAL '1 hour'\n",
    "    FROM time_gen\n",
    "    WHERE ts + INTERVAL '1 hour' <= TIMESTAMP '2025-06-30 23:00:00'\n",
    ")\n",
    "INSERT INTO dim_time (\n",
    "    timestamp_utc,\n",
    "    date,\n",
    "    hour,\n",
    "    day_of_week,\n",
    "    month,\n",
    "    year\n",
    ")\n",
    "SELECT\n",
    "    ts AS timestamp_utc,\n",
    "    ts::date AS date,\n",
    "    EXTRACT(HOUR FROM ts)::int AS hour,\n",
    "    TO_CHAR(ts, 'Dy') AS day_of_week,\n",
    "    TO_CHAR(ts, 'Mon') AS month,\n",
    "    EXTRACT(YEAR FROM ts)::int AS year\n",
    "FROM time_gen;\n"
   ]
  },
  {
   "cell_type": "code",
   "execution_count": null,
   "id": "615fa9eb",
   "metadata": {},
   "outputs": [],
   "source": []
  }
 ],
 "metadata": {
  "kernelspec": {
   "display_name": ".venv",
   "language": "python",
   "name": "python3"
  },
  "language_info": {
   "codemirror_mode": {
    "name": "ipython",
    "version": 3
   },
   "file_extension": ".py",
   "mimetype": "text/x-python",
   "name": "python",
   "nbconvert_exporter": "python",
   "pygments_lexer": "ipython3",
   "version": "3.11.9"
  }
 },
 "nbformat": 4,
 "nbformat_minor": 5
}
